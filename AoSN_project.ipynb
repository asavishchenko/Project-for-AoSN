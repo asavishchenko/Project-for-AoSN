{
  "nbformat": 4,
  "nbformat_minor": 0,
  "metadata": {
    "colab": {
      "name": "AoSN project.ipynb",
      "provenance": [],
      "collapsed_sections": []
    },
    "kernelspec": {
      "name": "python3",
      "display_name": "Python 3"
    },
    "language_info": {
      "name": "python"
    }
  },
  "cells": [
    {
      "cell_type": "code",
      "execution_count": 1,
      "metadata": {
        "id": "uViZ7ilwHBY4"
      },
      "outputs": [],
      "source": [
        "!pip install -U -q PyDrive\n",
        "import pandas as pd\n",
        "import numpy as np\n",
        "import os"
      ]
    },
    {
      "cell_type": "code",
      "source": [
        "from pydrive.auth import GoogleAuth\n",
        "from pydrive.drive import GoogleDrive\n",
        "from google.colab import auth\n",
        "from oauth2client.client import GoogleCredentials"
      ],
      "metadata": {
        "id": "rERU-8HG7XQX"
      },
      "execution_count": 2,
      "outputs": []
    },
    {
      "cell_type": "code",
      "source": [
        "auth.authenticate_user()\n",
        "gauth = GoogleAuth()\n",
        "gauth.credentials = GoogleCredentials.get_application_default()\n",
        "drive = GoogleDrive(gauth)"
      ],
      "metadata": {
        "id": "9FX5qKxI7hyY"
      },
      "execution_count": 3,
      "outputs": []
    },
    {
      "cell_type": "code",
      "source": [
        "downloaded = drive.CreateFile({'id':'14S7DQWYPpvtwzqlkwt69AoHtCrHn0_lU'})\n",
        "downloaded.GetContentFile(\"Log_Problem.csv\",  mimetype='csv')\n",
        "prblm = pd.read_csv('Log_Problem.csv')\n",
        "downloaded = drive.CreateFile({'id':'1Szg3o8AAs0isPxaNnY7JbppmuIRkRtEK'})\n",
        "downloaded.GetContentFile(\"Info_UserData.csv\",  mimetype='csv')\n",
        "usr = pd.read_csv('Info_UserData.csv')\n",
        "downloaded = drive.CreateFile({'id':'12uoBoMtIGjYW2ivOmn4N19sTYgkZbffe'})\n",
        "downloaded.GetContentFile(\"Info_Content.csv\",  mimetype='csv')\n",
        "cntnt = pd.read_csv('Info_Content.csv')"
      ],
      "metadata": {
        "id": "UoqEHTwo7uRm"
      },
      "execution_count": 4,
      "outputs": []
    },
    {
      "cell_type": "code",
      "source": [
        "prblm.info\n",
        "prblm.dtypes\n",
        "prblm.head()\n",
        "prblm.duplicated().sum()"
      ],
      "metadata": {
        "id": "15rG8EgaU756"
      },
      "execution_count": null,
      "outputs": []
    },
    {
      "cell_type": "code",
      "source": [
        "usr.info\n",
        "usr.dtypes\n",
        "usr.head()\n",
        "usr.duplicated().sum()"
      ],
      "metadata": {
        "id": "BR0zsaEKpBMD"
      },
      "execution_count": null,
      "outputs": []
    },
    {
      "cell_type": "code",
      "source": [
        "cntnt.info\n",
        "cntnt.dtypes\n",
        "cntnt.head()\n",
        "cntnt.duplicated().sum()"
      ],
      "metadata": {
        "id": "eRjg-i1fpBU9"
      },
      "execution_count": null,
      "outputs": []
    },
    {
      "cell_type": "code",
      "source": [
        "usr.isnull().sum() #39853 из 72758\n",
        "usr = usr.dropna()"
      ],
      "metadata": {
        "id": "1POLXYlUsjhh"
      },
      "execution_count": 24,
      "outputs": []
    },
    {
      "cell_type": "code",
      "source": [
        "prblm.isnull().sum() #14436018 из 16217311 по двум переменным\n",
        "prblm.pop(\"is_downgrade\")\n",
        "prblm.pop(\"is_upgrade\")"
      ],
      "metadata": {
        "id": "pMvP2V25sjoq"
      },
      "execution_count": null,
      "outputs": []
    },
    {
      "cell_type": "code",
      "source": [
        "cntnt.isnull().sum()"
      ],
      "metadata": {
        "colab": {
          "base_uri": "https://localhost:8080/"
        },
        "id": "tdl07UW1sjyi",
        "outputId": "6dd24fbc-356e-4872-bf5a-347984281de9"
      },
      "execution_count": 105,
      "outputs": [
        {
          "output_type": "execute_result",
          "data": {
            "text/plain": [
              "ucid                   0\n",
              "content_pretty_name    0\n",
              "content_kind           0\n",
              "difficulty             0\n",
              "subject                0\n",
              "learning_stage         0\n",
              "level1_id              0\n",
              "level2_id              0\n",
              "level3_id              0\n",
              "level4_id              0\n",
              "dtype: int64"
            ]
          },
          "metadata": {},
          "execution_count": 105
        }
      ]
    },
    {
      "cell_type": "code",
      "source": [
        "usrid = usr['uuid']\n",
        "usridch = usrid.sample(n=3638, replace = False)"
      ],
      "metadata": {
        "id": "rHbNVp-NYB6O"
      },
      "execution_count": 107,
      "outputs": []
    },
    {
      "cell_type": "code",
      "source": [
        "prblmch = prblm.loc[prblm['uuid'].isin(usridch)]\n",
        "usrch = usr.loc[usr['uuid'].isin(usridch)]"
      ],
      "metadata": {
        "id": "GPBKSCpNbRwn"
      },
      "execution_count": 108,
      "outputs": []
    },
    {
      "cell_type": "code",
      "source": [
        "prblmch.info"
      ],
      "metadata": {
        "id": "nR6norS0x1fg"
      },
      "execution_count": null,
      "outputs": []
    },
    {
      "cell_type": "code",
      "source": [
        "usrch.info"
      ],
      "metadata": {
        "id": "ALzt240Ox3KY"
      },
      "execution_count": null,
      "outputs": []
    },
    {
      "cell_type": "code",
      "source": [
        "prblmch['is_correct'] = (-prblmch['is_correct']).astype(np.int8) #0=True 1=False\n",
        "prblmch['is_hint_used'] = (-prblmch['is_hint_used']).astype(np.int8)"
      ],
      "metadata": {
        "id": "HgfC517Wp5-n"
      },
      "execution_count": null,
      "outputs": []
    },
    {
      "cell_type": "code",
      "source": [
        "usrch['is_self_coach'] = (-usrch['is_self_coach']).astype(np.int8)"
      ],
      "metadata": {
        "id": "uiSCHtWtnB_P"
      },
      "execution_count": null,
      "outputs": []
    },
    {
      "cell_type": "code",
      "source": [
        "usrch[\"gender\"].value_counts()"
      ],
      "metadata": {
        "id": "ejhy5hf0sCSy"
      },
      "execution_count": null,
      "outputs": []
    },
    {
      "cell_type": "code",
      "source": [
        "usrch[\"gender\"] = usrch[\"gender\"].astype('category')\n",
        "usrch[\"gender\"] = usrch[\"gender\"].cat.codes\n",
        "usrch.head() # 0 = female 1 = male 2 = unspecified"
      ],
      "metadata": {
        "id": "Zw9GWJ1p1IuU"
      },
      "execution_count": null,
      "outputs": []
    },
    {
      "cell_type": "code",
      "source": [
        "usrch[\"user_city\"].value_counts()"
      ],
      "metadata": {
        "id": "cCW1YOriw0vr"
      },
      "execution_count": null,
      "outputs": []
    },
    {
      "cell_type": "code",
      "source": [
        "usrch[\"user_city\"] = usrch[\"user_city\"].astype('category')\n",
        "usrch[\"user_city\"] = usrch[\"user_city\"].cat.codes\n",
        "usrch.head() # 0 = female 1 = male 2 = unspecified"
      ],
      "metadata": {
        "colab": {
          "base_uri": "https://localhost:8080/",
          "height": 484
        },
        "id": "tXtn6hXq1o05",
        "outputId": "6faf4d4a-658d-45cb-bf5d-97a6aeb50a4d"
      },
      "execution_count": 135,
      "outputs": [
        {
          "output_type": "stream",
          "name": "stderr",
          "text": [
            "/usr/local/lib/python3.7/dist-packages/ipykernel_launcher.py:1: SettingWithCopyWarning: \n",
            "A value is trying to be set on a copy of a slice from a DataFrame.\n",
            "Try using .loc[row_indexer,col_indexer] = value instead\n",
            "\n",
            "See the caveats in the documentation: https://pandas.pydata.org/pandas-docs/stable/user_guide/indexing.html#returning-a-view-versus-a-copy\n",
            "  \"\"\"Entry point for launching an IPython kernel.\n",
            "/usr/local/lib/python3.7/dist-packages/ipykernel_launcher.py:2: SettingWithCopyWarning: \n",
            "A value is trying to be set on a copy of a slice from a DataFrame.\n",
            "Try using .loc[row_indexer,col_indexer] = value instead\n",
            "\n",
            "See the caveats in the documentation: https://pandas.pydata.org/pandas-docs/stable/user_guide/indexing.html#returning-a-view-versus-a-copy\n",
            "  \n"
          ]
        },
        {
          "output_type": "execute_result",
          "data": {
            "text/plain": [
              "                                            uuid  gender  points  badges_cnt  \\\n",
              "6   ADL8ZENEcGUW3bCQg4t8gA0tJR9R6H5OYwr+TCPb5oY=       1    7503           0   \n",
              "16  IfhmdYFkNYPn0MUQ+U+RxlfPniGnvgEgxJtyRBU+B+U=       1  234192          45   \n",
              "21  KcO76LGANyFPrli+kni6J6rES6OSJf5yRjlAeVh9i+M=       1  168196          13   \n",
              "55  01ORkfL5AfqsUp6Ze8nONFr2EMvr620Nz9t1e29Ol/Y=       0  122754          12   \n",
              "70  cVG2axPTSLMGBt7yWKy+gv3nzaoJarnjbQb3PgInGPI=       2   41527          19   \n",
              "\n",
              "   first_login_date_TW  user_grade  user_city  has_teacher_cnt  is_self_coach  \\\n",
              "6           2019-01-24           2          5                1             -1   \n",
              "16          2019-01-24           4         15                1              0   \n",
              "21          2019-01-24           4         10                0             -1   \n",
              "55          2019-01-24           7          5                0             -1   \n",
              "70          2019-01-24           8          5                0             -1   \n",
              "\n",
              "    has_student_cnt  belongs_to_class_cnt  has_class_cnt  \n",
              "6                 0                     1              0  \n",
              "16               24                     0              0  \n",
              "21               14                     0              2  \n",
              "55                0                     0              0  \n",
              "70                0                     0              0  "
            ],
            "text/html": [
              "\n",
              "  <div id=\"df-56823b5b-f66c-499f-945a-69fb712b0924\">\n",
              "    <div class=\"colab-df-container\">\n",
              "      <div>\n",
              "<style scoped>\n",
              "    .dataframe tbody tr th:only-of-type {\n",
              "        vertical-align: middle;\n",
              "    }\n",
              "\n",
              "    .dataframe tbody tr th {\n",
              "        vertical-align: top;\n",
              "    }\n",
              "\n",
              "    .dataframe thead th {\n",
              "        text-align: right;\n",
              "    }\n",
              "</style>\n",
              "<table border=\"1\" class=\"dataframe\">\n",
              "  <thead>\n",
              "    <tr style=\"text-align: right;\">\n",
              "      <th></th>\n",
              "      <th>uuid</th>\n",
              "      <th>gender</th>\n",
              "      <th>points</th>\n",
              "      <th>badges_cnt</th>\n",
              "      <th>first_login_date_TW</th>\n",
              "      <th>user_grade</th>\n",
              "      <th>user_city</th>\n",
              "      <th>has_teacher_cnt</th>\n",
              "      <th>is_self_coach</th>\n",
              "      <th>has_student_cnt</th>\n",
              "      <th>belongs_to_class_cnt</th>\n",
              "      <th>has_class_cnt</th>\n",
              "    </tr>\n",
              "  </thead>\n",
              "  <tbody>\n",
              "    <tr>\n",
              "      <th>6</th>\n",
              "      <td>ADL8ZENEcGUW3bCQg4t8gA0tJR9R6H5OYwr+TCPb5oY=</td>\n",
              "      <td>1</td>\n",
              "      <td>7503</td>\n",
              "      <td>0</td>\n",
              "      <td>2019-01-24</td>\n",
              "      <td>2</td>\n",
              "      <td>5</td>\n",
              "      <td>1</td>\n",
              "      <td>-1</td>\n",
              "      <td>0</td>\n",
              "      <td>1</td>\n",
              "      <td>0</td>\n",
              "    </tr>\n",
              "    <tr>\n",
              "      <th>16</th>\n",
              "      <td>IfhmdYFkNYPn0MUQ+U+RxlfPniGnvgEgxJtyRBU+B+U=</td>\n",
              "      <td>1</td>\n",
              "      <td>234192</td>\n",
              "      <td>45</td>\n",
              "      <td>2019-01-24</td>\n",
              "      <td>4</td>\n",
              "      <td>15</td>\n",
              "      <td>1</td>\n",
              "      <td>0</td>\n",
              "      <td>24</td>\n",
              "      <td>0</td>\n",
              "      <td>0</td>\n",
              "    </tr>\n",
              "    <tr>\n",
              "      <th>21</th>\n",
              "      <td>KcO76LGANyFPrli+kni6J6rES6OSJf5yRjlAeVh9i+M=</td>\n",
              "      <td>1</td>\n",
              "      <td>168196</td>\n",
              "      <td>13</td>\n",
              "      <td>2019-01-24</td>\n",
              "      <td>4</td>\n",
              "      <td>10</td>\n",
              "      <td>0</td>\n",
              "      <td>-1</td>\n",
              "      <td>14</td>\n",
              "      <td>0</td>\n",
              "      <td>2</td>\n",
              "    </tr>\n",
              "    <tr>\n",
              "      <th>55</th>\n",
              "      <td>01ORkfL5AfqsUp6Ze8nONFr2EMvr620Nz9t1e29Ol/Y=</td>\n",
              "      <td>0</td>\n",
              "      <td>122754</td>\n",
              "      <td>12</td>\n",
              "      <td>2019-01-24</td>\n",
              "      <td>7</td>\n",
              "      <td>5</td>\n",
              "      <td>0</td>\n",
              "      <td>-1</td>\n",
              "      <td>0</td>\n",
              "      <td>0</td>\n",
              "      <td>0</td>\n",
              "    </tr>\n",
              "    <tr>\n",
              "      <th>70</th>\n",
              "      <td>cVG2axPTSLMGBt7yWKy+gv3nzaoJarnjbQb3PgInGPI=</td>\n",
              "      <td>2</td>\n",
              "      <td>41527</td>\n",
              "      <td>19</td>\n",
              "      <td>2019-01-24</td>\n",
              "      <td>8</td>\n",
              "      <td>5</td>\n",
              "      <td>0</td>\n",
              "      <td>-1</td>\n",
              "      <td>0</td>\n",
              "      <td>0</td>\n",
              "      <td>0</td>\n",
              "    </tr>\n",
              "  </tbody>\n",
              "</table>\n",
              "</div>\n",
              "      <button class=\"colab-df-convert\" onclick=\"convertToInteractive('df-56823b5b-f66c-499f-945a-69fb712b0924')\"\n",
              "              title=\"Convert this dataframe to an interactive table.\"\n",
              "              style=\"display:none;\">\n",
              "        \n",
              "  <svg xmlns=\"http://www.w3.org/2000/svg\" height=\"24px\"viewBox=\"0 0 24 24\"\n",
              "       width=\"24px\">\n",
              "    <path d=\"M0 0h24v24H0V0z\" fill=\"none\"/>\n",
              "    <path d=\"M18.56 5.44l.94 2.06.94-2.06 2.06-.94-2.06-.94-.94-2.06-.94 2.06-2.06.94zm-11 1L8.5 8.5l.94-2.06 2.06-.94-2.06-.94L8.5 2.5l-.94 2.06-2.06.94zm10 10l.94 2.06.94-2.06 2.06-.94-2.06-.94-.94-2.06-.94 2.06-2.06.94z\"/><path d=\"M17.41 7.96l-1.37-1.37c-.4-.4-.92-.59-1.43-.59-.52 0-1.04.2-1.43.59L10.3 9.45l-7.72 7.72c-.78.78-.78 2.05 0 2.83L4 21.41c.39.39.9.59 1.41.59.51 0 1.02-.2 1.41-.59l7.78-7.78 2.81-2.81c.8-.78.8-2.07 0-2.86zM5.41 20L4 18.59l7.72-7.72 1.47 1.35L5.41 20z\"/>\n",
              "  </svg>\n",
              "      </button>\n",
              "      \n",
              "  <style>\n",
              "    .colab-df-container {\n",
              "      display:flex;\n",
              "      flex-wrap:wrap;\n",
              "      gap: 12px;\n",
              "    }\n",
              "\n",
              "    .colab-df-convert {\n",
              "      background-color: #E8F0FE;\n",
              "      border: none;\n",
              "      border-radius: 50%;\n",
              "      cursor: pointer;\n",
              "      display: none;\n",
              "      fill: #1967D2;\n",
              "      height: 32px;\n",
              "      padding: 0 0 0 0;\n",
              "      width: 32px;\n",
              "    }\n",
              "\n",
              "    .colab-df-convert:hover {\n",
              "      background-color: #E2EBFA;\n",
              "      box-shadow: 0px 1px 2px rgba(60, 64, 67, 0.3), 0px 1px 3px 1px rgba(60, 64, 67, 0.15);\n",
              "      fill: #174EA6;\n",
              "    }\n",
              "\n",
              "    [theme=dark] .colab-df-convert {\n",
              "      background-color: #3B4455;\n",
              "      fill: #D2E3FC;\n",
              "    }\n",
              "\n",
              "    [theme=dark] .colab-df-convert:hover {\n",
              "      background-color: #434B5C;\n",
              "      box-shadow: 0px 1px 3px 1px rgba(0, 0, 0, 0.15);\n",
              "      filter: drop-shadow(0px 1px 2px rgba(0, 0, 0, 0.3));\n",
              "      fill: #FFFFFF;\n",
              "    }\n",
              "  </style>\n",
              "\n",
              "      <script>\n",
              "        const buttonEl =\n",
              "          document.querySelector('#df-56823b5b-f66c-499f-945a-69fb712b0924 button.colab-df-convert');\n",
              "        buttonEl.style.display =\n",
              "          google.colab.kernel.accessAllowed ? 'block' : 'none';\n",
              "\n",
              "        async function convertToInteractive(key) {\n",
              "          const element = document.querySelector('#df-56823b5b-f66c-499f-945a-69fb712b0924');\n",
              "          const dataTable =\n",
              "            await google.colab.kernel.invokeFunction('convertToInteractive',\n",
              "                                                     [key], {});\n",
              "          if (!dataTable) return;\n",
              "\n",
              "          const docLinkHtml = 'Like what you see? Visit the ' +\n",
              "            '<a target=\"_blank\" href=https://colab.research.google.com/notebooks/data_table.ipynb>data table notebook</a>'\n",
              "            + ' to learn more about interactive tables.';\n",
              "          element.innerHTML = '';\n",
              "          dataTable['output_type'] = 'display_data';\n",
              "          await google.colab.output.renderOutput(dataTable, element);\n",
              "          const docLink = document.createElement('div');\n",
              "          docLink.innerHTML = docLinkHtml;\n",
              "          element.appendChild(docLink);\n",
              "        }\n",
              "      </script>\n",
              "    </div>\n",
              "  </div>\n",
              "  "
            ]
          },
          "metadata": {},
          "execution_count": 135
        }
      ]
    },
    {
      "cell_type": "markdown",
      "source": [
        "tp - 15; tc - 13; ntpc - 10; ty - 17; kh - 5; tn - 14; ptc - 12; chc - 0; ylc - 18; hc - 2; cy - 1; ntct - 9; hlc - 3; ilc - 4; ml - 8; ttct - 16; km - 7; kl - 6; phc - 11"
      ],
      "metadata": {
        "id": "lsaEbc9k16XZ"
      }
    },
    {
      "cell_type": "code",
      "source": [
        "prblmcid = prblmch['ucid']\n",
        "cntntch = cntnt.loc[cntnt['ucid'].isin(prblmcid)]\n",
        "cntntch.shape # ушло 5 обозначений проблем\n",
        "cntntch.head()"
      ],
      "metadata": {
        "colab": {
          "base_uri": "https://localhost:8080/"
        },
        "id": "kKA_JYJv3QES",
        "outputId": "010d97c6-6586-44d7-a727-a5e6d574a386"
      },
      "execution_count": 117,
      "outputs": [
        {
          "output_type": "execute_result",
          "data": {
            "text/plain": [
              "(1320, 10)"
            ]
          },
          "metadata": {},
          "execution_count": 117
        }
      ]
    },
    {
      "cell_type": "code",
      "source": [
        "cntntch[\"content_pretty_name\"].value_counts()"
      ],
      "metadata": {
        "id": "joCuU3kG3-GE"
      },
      "execution_count": null,
      "outputs": []
    },
    {
      "cell_type": "code",
      "source": [
        "cntntch[\"content_kind\"].value_counts() # all Exercise\n",
        "cntntch.pop(\"content_kind\")"
      ],
      "metadata": {
        "id": "05vfJk3d-USc"
      },
      "execution_count": null,
      "outputs": []
    },
    {
      "cell_type": "code",
      "source": [
        "cntntch[\"difficulty\"].value_counts()"
      ],
      "metadata": {
        "id": "QxAboTHN-VoL"
      },
      "execution_count": null,
      "outputs": []
    },
    {
      "cell_type": "code",
      "source": [
        "cntntch[\"difficulty\"] = cntntch[\"difficulty\"].astype('category')\n",
        "cntntch[\"difficulty\"] = cntntch[\"difficulty\"].cat.codes\n",
        "# 0 = easy 1 = normal 2 = hard 3 = unset"
      ],
      "metadata": {
        "id": "SGURp9lP-ht4"
      },
      "execution_count": null,
      "outputs": []
    },
    {
      "cell_type": "code",
      "source": [
        "cntntch[\"subject\"].value_counts() # only math\n",
        "cntntch.pop(\"subject\")"
      ],
      "metadata": {
        "id": "5NPWynVT-4F5"
      },
      "execution_count": null,
      "outputs": []
    },
    {
      "cell_type": "code",
      "source": [
        "cntntch[\"learning_stage\"].value_counts()"
      ],
      "metadata": {
        "id": "tZrmcz5Z_MXI"
      },
      "execution_count": null,
      "outputs": []
    },
    {
      "cell_type": "code",
      "source": [
        "cntntch[\"learning_stage\"] = cntntch[\"learning_stage\"].astype('category')\n",
        "cntntch[\"learning_stage\"] = cntntch[\"learning_stage\"].cat.codes\n",
        "# 0 = elementary 1 = junior 2 = senior"
      ],
      "metadata": {
        "id": "maVckI-2_psf"
      },
      "execution_count": null,
      "outputs": []
    },
    {
      "cell_type": "markdown",
      "source": [
        "Хэшированный идентификатор уровня 1 этого контента. Уровни формируют древовидную иерархическую структуру содержания в Junyi Academy. Текущая версия набора данных имеет четыре уровня в иерархии."
      ],
      "metadata": {
        "id": "Itm78fAlA2NX"
      }
    },
    {
      "cell_type": "code",
      "source": [
        "cntntch[\"level1_id\"].value_counts() # одно значение\n",
        "cntntch[\"level2_id\"].value_counts()\n",
        "cntntch[\"level3_id\"].value_counts()\n",
        "cntntch[\"level4_id\"].value_counts()"
      ],
      "metadata": {
        "id": "YEmpZSplAQXf"
      },
      "execution_count": null,
      "outputs": []
    },
    {
      "cell_type": "code",
      "source": [
        "cntntname = cntntch[\"content_pretty_name\"]"
      ],
      "metadata": {
        "id": "ujuNQ3qUAQih"
      },
      "execution_count": 127,
      "outputs": []
    },
    {
      "cell_type": "code",
      "source": [
        "from google.colab import files\n",
        "cntntname.to_csv('cntntname.csv') \n",
        "files.download('cntntname.csv')"
      ],
      "metadata": {
        "colab": {
          "base_uri": "https://localhost:8080/",
          "height": 17
        },
        "id": "NmiNv_DYG9_Y",
        "outputId": "dd96e958-45e4-4d2c-e688-251566d0247b"
      },
      "execution_count": 128,
      "outputs": [
        {
          "output_type": "display_data",
          "data": {
            "text/plain": [
              "<IPython.core.display.Javascript object>"
            ],
            "application/javascript": [
              "\n",
              "    async function download(id, filename, size) {\n",
              "      if (!google.colab.kernel.accessAllowed) {\n",
              "        return;\n",
              "      }\n",
              "      const div = document.createElement('div');\n",
              "      const label = document.createElement('label');\n",
              "      label.textContent = `Downloading \"${filename}\": `;\n",
              "      div.appendChild(label);\n",
              "      const progress = document.createElement('progress');\n",
              "      progress.max = size;\n",
              "      div.appendChild(progress);\n",
              "      document.body.appendChild(div);\n",
              "\n",
              "      const buffers = [];\n",
              "      let downloaded = 0;\n",
              "\n",
              "      const channel = await google.colab.kernel.comms.open(id);\n",
              "      // Send a message to notify the kernel that we're ready.\n",
              "      channel.send({})\n",
              "\n",
              "      for await (const message of channel.messages) {\n",
              "        // Send a message to notify the kernel that we're ready.\n",
              "        channel.send({})\n",
              "        if (message.buffers) {\n",
              "          for (const buffer of message.buffers) {\n",
              "            buffers.push(buffer);\n",
              "            downloaded += buffer.byteLength;\n",
              "            progress.value = downloaded;\n",
              "          }\n",
              "        }\n",
              "      }\n",
              "      const blob = new Blob(buffers, {type: 'application/binary'});\n",
              "      const a = document.createElement('a');\n",
              "      a.href = window.URL.createObjectURL(blob);\n",
              "      a.download = filename;\n",
              "      div.appendChild(a);\n",
              "      a.click();\n",
              "      div.remove();\n",
              "    }\n",
              "  "
            ]
          },
          "metadata": {}
        },
        {
          "output_type": "display_data",
          "data": {
            "text/plain": [
              "<IPython.core.display.Javascript object>"
            ],
            "application/javascript": [
              "download(\"download_9a78b407-43b4-4e74-9d91-7b097fa7a610\", \"cntntname.csv\", 56831)"
            ]
          },
          "metadata": {}
        }
      ]
    },
    {
      "cell_type": "code",
      "source": [
        "downloaded = drive.CreateFile({'id':'13uyAxaXrZRLFPd-gWTUGcy-HQx0BZHwD'})\n",
        "downloaded.GetContentFile(\"cntntnametrnsl.csv\",  mimetype='csv')\n",
        "ctrnsl = pd.read_csv('cntntnametrnsl.csv')"
      ],
      "metadata": {
        "id": "-rMZWcglKxDs"
      },
      "execution_count": 129,
      "outputs": []
    },
    {
      "cell_type": "code",
      "source": [
        "cntch = pd.merge(cntntch,ctrnsl,on=\"content_pretty_name\",how=\"outer\")\n",
        "cntch.pop(\"content_pretty_name\")"
      ],
      "metadata": {
        "colab": {
          "base_uri": "https://localhost:8080/"
        },
        "id": "4CUZF-PSMpoY",
        "outputId": "cbbe62b1-26bb-419d-8804-a86aa7eaa609"
      },
      "execution_count": 130,
      "outputs": [
        {
          "output_type": "execute_result",
          "data": {
            "text/plain": [
              "0       【基礎】怎樣解題：數量關係\n",
              "1          【基礎】和差問題 1\n",
              "2          【基礎】雞兔問題 1\n",
              "3          【基礎】年齡問題 1\n",
              "4            【基礎】追趕問題\n",
              "            ...      \n",
              "1343       【進階】圓內角的應用\n",
              "1344       【進階】圓外角的應用\n",
              "1345         【一般】分組問題\n",
              "1346        【一般】解的合理性\n",
              "1347          時間的基本概念\n",
              "Name: content_pretty_name, Length: 1348, dtype: object"
            ]
          },
          "metadata": {},
          "execution_count": 130
        }
      ]
    },
    {
      "cell_type": "code",
      "source": [
        "usrch.head()"
      ],
      "metadata": {
        "colab": {
          "base_uri": "https://localhost:8080/",
          "height": 270
        },
        "id": "w3TtOUPNPWrl",
        "outputId": "59c6c733-0f10-4b46-9a74-1a406cacf561"
      },
      "execution_count": 136,
      "outputs": [
        {
          "output_type": "execute_result",
          "data": {
            "text/plain": [
              "                                            uuid  gender  points  badges_cnt  \\\n",
              "6   ADL8ZENEcGUW3bCQg4t8gA0tJR9R6H5OYwr+TCPb5oY=       1    7503           0   \n",
              "16  IfhmdYFkNYPn0MUQ+U+RxlfPniGnvgEgxJtyRBU+B+U=       1  234192          45   \n",
              "21  KcO76LGANyFPrli+kni6J6rES6OSJf5yRjlAeVh9i+M=       1  168196          13   \n",
              "55  01ORkfL5AfqsUp6Ze8nONFr2EMvr620Nz9t1e29Ol/Y=       0  122754          12   \n",
              "70  cVG2axPTSLMGBt7yWKy+gv3nzaoJarnjbQb3PgInGPI=       2   41527          19   \n",
              "\n",
              "   first_login_date_TW  user_grade  user_city  has_teacher_cnt  is_self_coach  \\\n",
              "6           2019-01-24           2          5                1             -1   \n",
              "16          2019-01-24           4         15                1              0   \n",
              "21          2019-01-24           4         10                0             -1   \n",
              "55          2019-01-24           7          5                0             -1   \n",
              "70          2019-01-24           8          5                0             -1   \n",
              "\n",
              "    has_student_cnt  belongs_to_class_cnt  has_class_cnt  \n",
              "6                 0                     1              0  \n",
              "16               24                     0              0  \n",
              "21               14                     0              2  \n",
              "55                0                     0              0  \n",
              "70                0                     0              0  "
            ],
            "text/html": [
              "\n",
              "  <div id=\"df-86897f16-1e72-4844-8ee4-b2c6a47fed10\">\n",
              "    <div class=\"colab-df-container\">\n",
              "      <div>\n",
              "<style scoped>\n",
              "    .dataframe tbody tr th:only-of-type {\n",
              "        vertical-align: middle;\n",
              "    }\n",
              "\n",
              "    .dataframe tbody tr th {\n",
              "        vertical-align: top;\n",
              "    }\n",
              "\n",
              "    .dataframe thead th {\n",
              "        text-align: right;\n",
              "    }\n",
              "</style>\n",
              "<table border=\"1\" class=\"dataframe\">\n",
              "  <thead>\n",
              "    <tr style=\"text-align: right;\">\n",
              "      <th></th>\n",
              "      <th>uuid</th>\n",
              "      <th>gender</th>\n",
              "      <th>points</th>\n",
              "      <th>badges_cnt</th>\n",
              "      <th>first_login_date_TW</th>\n",
              "      <th>user_grade</th>\n",
              "      <th>user_city</th>\n",
              "      <th>has_teacher_cnt</th>\n",
              "      <th>is_self_coach</th>\n",
              "      <th>has_student_cnt</th>\n",
              "      <th>belongs_to_class_cnt</th>\n",
              "      <th>has_class_cnt</th>\n",
              "    </tr>\n",
              "  </thead>\n",
              "  <tbody>\n",
              "    <tr>\n",
              "      <th>6</th>\n",
              "      <td>ADL8ZENEcGUW3bCQg4t8gA0tJR9R6H5OYwr+TCPb5oY=</td>\n",
              "      <td>1</td>\n",
              "      <td>7503</td>\n",
              "      <td>0</td>\n",
              "      <td>2019-01-24</td>\n",
              "      <td>2</td>\n",
              "      <td>5</td>\n",
              "      <td>1</td>\n",
              "      <td>-1</td>\n",
              "      <td>0</td>\n",
              "      <td>1</td>\n",
              "      <td>0</td>\n",
              "    </tr>\n",
              "    <tr>\n",
              "      <th>16</th>\n",
              "      <td>IfhmdYFkNYPn0MUQ+U+RxlfPniGnvgEgxJtyRBU+B+U=</td>\n",
              "      <td>1</td>\n",
              "      <td>234192</td>\n",
              "      <td>45</td>\n",
              "      <td>2019-01-24</td>\n",
              "      <td>4</td>\n",
              "      <td>15</td>\n",
              "      <td>1</td>\n",
              "      <td>0</td>\n",
              "      <td>24</td>\n",
              "      <td>0</td>\n",
              "      <td>0</td>\n",
              "    </tr>\n",
              "    <tr>\n",
              "      <th>21</th>\n",
              "      <td>KcO76LGANyFPrli+kni6J6rES6OSJf5yRjlAeVh9i+M=</td>\n",
              "      <td>1</td>\n",
              "      <td>168196</td>\n",
              "      <td>13</td>\n",
              "      <td>2019-01-24</td>\n",
              "      <td>4</td>\n",
              "      <td>10</td>\n",
              "      <td>0</td>\n",
              "      <td>-1</td>\n",
              "      <td>14</td>\n",
              "      <td>0</td>\n",
              "      <td>2</td>\n",
              "    </tr>\n",
              "    <tr>\n",
              "      <th>55</th>\n",
              "      <td>01ORkfL5AfqsUp6Ze8nONFr2EMvr620Nz9t1e29Ol/Y=</td>\n",
              "      <td>0</td>\n",
              "      <td>122754</td>\n",
              "      <td>12</td>\n",
              "      <td>2019-01-24</td>\n",
              "      <td>7</td>\n",
              "      <td>5</td>\n",
              "      <td>0</td>\n",
              "      <td>-1</td>\n",
              "      <td>0</td>\n",
              "      <td>0</td>\n",
              "      <td>0</td>\n",
              "    </tr>\n",
              "    <tr>\n",
              "      <th>70</th>\n",
              "      <td>cVG2axPTSLMGBt7yWKy+gv3nzaoJarnjbQb3PgInGPI=</td>\n",
              "      <td>2</td>\n",
              "      <td>41527</td>\n",
              "      <td>19</td>\n",
              "      <td>2019-01-24</td>\n",
              "      <td>8</td>\n",
              "      <td>5</td>\n",
              "      <td>0</td>\n",
              "      <td>-1</td>\n",
              "      <td>0</td>\n",
              "      <td>0</td>\n",
              "      <td>0</td>\n",
              "    </tr>\n",
              "  </tbody>\n",
              "</table>\n",
              "</div>\n",
              "      <button class=\"colab-df-convert\" onclick=\"convertToInteractive('df-86897f16-1e72-4844-8ee4-b2c6a47fed10')\"\n",
              "              title=\"Convert this dataframe to an interactive table.\"\n",
              "              style=\"display:none;\">\n",
              "        \n",
              "  <svg xmlns=\"http://www.w3.org/2000/svg\" height=\"24px\"viewBox=\"0 0 24 24\"\n",
              "       width=\"24px\">\n",
              "    <path d=\"M0 0h24v24H0V0z\" fill=\"none\"/>\n",
              "    <path d=\"M18.56 5.44l.94 2.06.94-2.06 2.06-.94-2.06-.94-.94-2.06-.94 2.06-2.06.94zm-11 1L8.5 8.5l.94-2.06 2.06-.94-2.06-.94L8.5 2.5l-.94 2.06-2.06.94zm10 10l.94 2.06.94-2.06 2.06-.94-2.06-.94-.94-2.06-.94 2.06-2.06.94z\"/><path d=\"M17.41 7.96l-1.37-1.37c-.4-.4-.92-.59-1.43-.59-.52 0-1.04.2-1.43.59L10.3 9.45l-7.72 7.72c-.78.78-.78 2.05 0 2.83L4 21.41c.39.39.9.59 1.41.59.51 0 1.02-.2 1.41-.59l7.78-7.78 2.81-2.81c.8-.78.8-2.07 0-2.86zM5.41 20L4 18.59l7.72-7.72 1.47 1.35L5.41 20z\"/>\n",
              "  </svg>\n",
              "      </button>\n",
              "      \n",
              "  <style>\n",
              "    .colab-df-container {\n",
              "      display:flex;\n",
              "      flex-wrap:wrap;\n",
              "      gap: 12px;\n",
              "    }\n",
              "\n",
              "    .colab-df-convert {\n",
              "      background-color: #E8F0FE;\n",
              "      border: none;\n",
              "      border-radius: 50%;\n",
              "      cursor: pointer;\n",
              "      display: none;\n",
              "      fill: #1967D2;\n",
              "      height: 32px;\n",
              "      padding: 0 0 0 0;\n",
              "      width: 32px;\n",
              "    }\n",
              "\n",
              "    .colab-df-convert:hover {\n",
              "      background-color: #E2EBFA;\n",
              "      box-shadow: 0px 1px 2px rgba(60, 64, 67, 0.3), 0px 1px 3px 1px rgba(60, 64, 67, 0.15);\n",
              "      fill: #174EA6;\n",
              "    }\n",
              "\n",
              "    [theme=dark] .colab-df-convert {\n",
              "      background-color: #3B4455;\n",
              "      fill: #D2E3FC;\n",
              "    }\n",
              "\n",
              "    [theme=dark] .colab-df-convert:hover {\n",
              "      background-color: #434B5C;\n",
              "      box-shadow: 0px 1px 3px 1px rgba(0, 0, 0, 0.15);\n",
              "      filter: drop-shadow(0px 1px 2px rgba(0, 0, 0, 0.3));\n",
              "      fill: #FFFFFF;\n",
              "    }\n",
              "  </style>\n",
              "\n",
              "      <script>\n",
              "        const buttonEl =\n",
              "          document.querySelector('#df-86897f16-1e72-4844-8ee4-b2c6a47fed10 button.colab-df-convert');\n",
              "        buttonEl.style.display =\n",
              "          google.colab.kernel.accessAllowed ? 'block' : 'none';\n",
              "\n",
              "        async function convertToInteractive(key) {\n",
              "          const element = document.querySelector('#df-86897f16-1e72-4844-8ee4-b2c6a47fed10');\n",
              "          const dataTable =\n",
              "            await google.colab.kernel.invokeFunction('convertToInteractive',\n",
              "                                                     [key], {});\n",
              "          if (!dataTable) return;\n",
              "\n",
              "          const docLinkHtml = 'Like what you see? Visit the ' +\n",
              "            '<a target=\"_blank\" href=https://colab.research.google.com/notebooks/data_table.ipynb>data table notebook</a>'\n",
              "            + ' to learn more about interactive tables.';\n",
              "          element.innerHTML = '';\n",
              "          dataTable['output_type'] = 'display_data';\n",
              "          await google.colab.output.renderOutput(dataTable, element);\n",
              "          const docLink = document.createElement('div');\n",
              "          docLink.innerHTML = docLinkHtml;\n",
              "          element.appendChild(docLink);\n",
              "        }\n",
              "      </script>\n",
              "    </div>\n",
              "  </div>\n",
              "  "
            ]
          },
          "metadata": {},
          "execution_count": 136
        }
      ]
    },
    {
      "cell_type": "code",
      "source": [
        "import matplotlib\n",
        "import matplotlib.pyplot as plt"
      ],
      "metadata": {
        "id": "2aK9XlXgQngZ"
      },
      "execution_count": 138,
      "outputs": []
    },
    {
      "cell_type": "code",
      "source": [
        "plt.hist(usrch['has_teacher_cnt'], bins=30, stacked=True, range=(0, 10))"
      ],
      "metadata": {
        "colab": {
          "base_uri": "https://localhost:8080/",
          "height": 497
        },
        "id": "JMq8yOagT4_f",
        "outputId": "1eec28fc-777d-4233-c304-437dd9b9d881"
      },
      "execution_count": 169,
      "outputs": [
        {
          "output_type": "execute_result",
          "data": {
            "text/plain": [
              "(array([8.560e+02, 0.000e+00, 0.000e+00, 2.058e+03, 0.000e+00, 0.000e+00,\n",
              "        4.630e+02, 0.000e+00, 0.000e+00, 1.510e+02, 0.000e+00, 0.000e+00,\n",
              "        4.300e+01, 0.000e+00, 0.000e+00, 2.200e+01, 0.000e+00, 0.000e+00,\n",
              "        1.300e+01, 0.000e+00, 0.000e+00, 6.000e+00, 0.000e+00, 0.000e+00,\n",
              "        4.000e+00, 0.000e+00, 0.000e+00, 5.000e+00, 0.000e+00, 2.000e+00]),\n",
              " array([ 0.        ,  0.33333333,  0.66666667,  1.        ,  1.33333333,\n",
              "         1.66666667,  2.        ,  2.33333333,  2.66666667,  3.        ,\n",
              "         3.33333333,  3.66666667,  4.        ,  4.33333333,  4.66666667,\n",
              "         5.        ,  5.33333333,  5.66666667,  6.        ,  6.33333333,\n",
              "         6.66666667,  7.        ,  7.33333333,  7.66666667,  8.        ,\n",
              "         8.33333333,  8.66666667,  9.        ,  9.33333333,  9.66666667,\n",
              "        10.        ]),\n",
              " <a list of 30 Patch objects>)"
            ]
          },
          "metadata": {},
          "execution_count": 169
        },
        {
          "output_type": "display_data",
          "data": {
            "text/plain": [
              "<Figure size 432x288 with 1 Axes>"
            ],
            "image/png": "[encoded data removed]"
          },
          "metadata": {
            "needs_background": "light"
          }
        }
      ]
    },
    {
      "cell_type": "code",
      "source": [
        "plt.hist(usrch['has_student_cnt'], bins=30, stacked=True, range=(0, 10)) "
      ],
      "metadata": {
        "colab": {
          "base_uri": "https://localhost:8080/",
          "height": 497
        },
        "id": "41PvhZOdVhrU",
        "outputId": "90704a3c-e7fe-4863-e04b-e164855582b4"
      },
      "execution_count": 168,
      "outputs": [
        {
          "output_type": "execute_result",
          "data": {
            "text/plain": [
              "(array([3.524e+03, 0.000e+00, 0.000e+00, 4.000e+01, 0.000e+00, 0.000e+00,\n",
              "        1.600e+01, 0.000e+00, 0.000e+00, 1.400e+01, 0.000e+00, 0.000e+00,\n",
              "        7.000e+00, 0.000e+00, 0.000e+00, 7.000e+00, 0.000e+00, 0.000e+00,\n",
              "        2.000e+00, 0.000e+00, 0.000e+00, 1.000e+00, 0.000e+00, 0.000e+00,\n",
              "        3.000e+00, 0.000e+00, 0.000e+00, 2.000e+00, 0.000e+00, 4.000e+00]),\n",
              " array([ 0.        ,  0.33333333,  0.66666667,  1.        ,  1.33333333,\n",
              "         1.66666667,  2.        ,  2.33333333,  2.66666667,  3.        ,\n",
              "         3.33333333,  3.66666667,  4.        ,  4.33333333,  4.66666667,\n",
              "         5.        ,  5.33333333,  5.66666667,  6.        ,  6.33333333,\n",
              "         6.66666667,  7.        ,  7.33333333,  7.66666667,  8.        ,\n",
              "         8.33333333,  8.66666667,  9.        ,  9.33333333,  9.66666667,\n",
              "        10.        ]),\n",
              " <a list of 30 Patch objects>)"
            ]
          },
          "metadata": {},
          "execution_count": 168
        },
        {
          "output_type": "display_data",
          "data": {
            "text/plain": [
              "<Figure size 432x288 with 1 Axes>"
            ],
            "image/png": "[encoded data removed]"
          },
          "metadata": {
            "needs_background": "light"
          }
        }
      ]
    },
    {
      "cell_type": "code",
      "source": [
        "plt.hist(usrch['belongs_to_class_cnt'], bins=30, stacked=True, range=(0, 10)) "
      ],
      "metadata": {
        "colab": {
          "base_uri": "https://localhost:8080/",
          "height": 479
        },
        "id": "WDsLE63SWfKa",
        "outputId": "085a47e5-e1c3-4f6b-d37f-2985ec31fedd"
      },
      "execution_count": 170,
      "outputs": [
        {
          "output_type": "execute_result",
          "data": {
            "text/plain": [
              "(array([1119.,    0.,    0., 1779.,    0.,    0.,  435.,    0.,    0.,\n",
              "         156.,    0.,    0.,   55.,    0.,    0.,   30.,    0.,    0.,\n",
              "          16.,    0.,    0.,   12.,    0.,    0.,    5.,    0.,    0.,\n",
              "           4.,    0.,    4.]),\n",
              " array([ 0.        ,  0.33333333,  0.66666667,  1.        ,  1.33333333,\n",
              "         1.66666667,  2.        ,  2.33333333,  2.66666667,  3.        ,\n",
              "         3.33333333,  3.66666667,  4.        ,  4.33333333,  4.66666667,\n",
              "         5.        ,  5.33333333,  5.66666667,  6.        ,  6.33333333,\n",
              "         6.66666667,  7.        ,  7.33333333,  7.66666667,  8.        ,\n",
              "         8.33333333,  8.66666667,  9.        ,  9.33333333,  9.66666667,\n",
              "        10.        ]),\n",
              " <a list of 30 Patch objects>)"
            ]
          },
          "metadata": {},
          "execution_count": 170
        },
        {
          "output_type": "display_data",
          "data": {
            "text/plain": [
              "<Figure size 432x288 with 1 Axes>"
            ],
            "image/png": "[encoded data removed]"
          },
          "metadata": {
            "needs_background": "light"
          }
        }
      ]
    },
    {
      "cell_type": "code",
      "source": [
        "plt.hist(usrch['has_class_cnt'], bins=30, stacked=True, range=(0, 10))"
      ],
      "metadata": {
        "colab": {
          "base_uri": "https://localhost:8080/",
          "height": 497
        },
        "id": "ef02pO3FWfRv",
        "outputId": "b3d717d7-c4be-4129-ab2c-080a8b0650a5"
      },
      "execution_count": 171,
      "outputs": [
        {
          "output_type": "execute_result",
          "data": {
            "text/plain": [
              "(array([3.417e+03, 0.000e+00, 0.000e+00, 1.740e+02, 0.000e+00, 0.000e+00,\n",
              "        3.400e+01, 0.000e+00, 0.000e+00, 3.000e+00, 0.000e+00, 0.000e+00,\n",
              "        3.000e+00, 0.000e+00, 0.000e+00, 3.000e+00, 0.000e+00, 0.000e+00,\n",
              "        0.000e+00, 0.000e+00, 0.000e+00, 2.000e+00, 0.000e+00, 0.000e+00,\n",
              "        0.000e+00, 0.000e+00, 0.000e+00, 1.000e+00, 0.000e+00, 0.000e+00]),\n",
              " array([ 0.        ,  0.33333333,  0.66666667,  1.        ,  1.33333333,\n",
              "         1.66666667,  2.        ,  2.33333333,  2.66666667,  3.        ,\n",
              "         3.33333333,  3.66666667,  4.        ,  4.33333333,  4.66666667,\n",
              "         5.        ,  5.33333333,  5.66666667,  6.        ,  6.33333333,\n",
              "         6.66666667,  7.        ,  7.33333333,  7.66666667,  8.        ,\n",
              "         8.33333333,  8.66666667,  9.        ,  9.33333333,  9.66666667,\n",
              "        10.        ]),\n",
              " <a list of 30 Patch objects>)"
            ]
          },
          "metadata": {},
          "execution_count": 171
        },
        {
          "output_type": "display_data",
          "data": {
            "text/plain": [
              "<Figure size 432x288 with 1 Axes>"
            ],
            "image/png": "[encoded data removed]"
          },
          "metadata": {
            "needs_background": "light"
          }
        }
      ]
    }
  ]
}